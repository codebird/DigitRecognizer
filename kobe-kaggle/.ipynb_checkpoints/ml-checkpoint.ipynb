{
 "cells": [
  {
   "cell_type": "code",
   "execution_count": 1,
   "metadata": {
    "collapsed": false
   },
   "outputs": [
    {
     "name": "stderr",
     "output_type": "stream",
     "text": [
      "/usr/local/lib/python3.4/dist-packages/matplotlib/backends/backend_gtk3agg.py:18: UserWarning: The Gtk3Agg backend is known to not work on Python 3.x with pycairo. Try installing cairocffi.\n",
      "  \"The Gtk3Agg backend is known to not work on Python 3.x with pycairo. \"\n"
     ]
    }
   ],
   "source": [
    "#import needed libs\n",
    "import pandas as pd\n",
    "import numpy as np\n",
    "import matplotlib.pyplot as plt\n",
    "from sklearn import cross_validation as cv\n",
    "from sklearn.ensemble import AdaBoostClassifier as ADAB"
   ]
  },
  {
   "cell_type": "code",
   "execution_count": 2,
   "metadata": {
    "collapsed": false
   },
   "outputs": [
    {
     "name": "stderr",
     "output_type": "stream",
     "text": [
      "/usr/local/lib/python3.4/dist-packages/ipykernel/__main__.py:5: FutureWarning: sort(columns=....) is deprecated, use sort_values(by=.....)\n"
     ]
    }
   ],
   "source": [
    "#read csv file, and prepare some vars\n",
    "df=pd.read_csv('data.csv')\n",
    "global action_names \n",
    "action_names={}\n",
    "df=df.sort(['season'], ascending=[1])\n",
    "actiontypes = dict(df.action_type.value_counts())"
   ]
  },
  {
   "cell_type": "code",
   "execution_count": 3,
   "metadata": {
    "collapsed": false
   },
   "outputs": [],
   "source": [
    "#function that create lists of strings, and replaces the strings in the df by their indices \n",
    "def replace_values_by_ints(df, col_name):\n",
    "    global action_names\n",
    "    actions=set()\n",
    "    for action in df[col_name]:\n",
    "        actions.add(action)\n",
    "    actions=list(actions)\n",
    "    action_names[col_name]=actions\n",
    "    for action in actions:\n",
    "        df.loc[df[col_name] == action, col_name] = int(actions.index(action))\n",
    "    return df"
   ]
  },
  {
   "cell_type": "code",
   "execution_count": 4,
   "metadata": {
    "collapsed": false
   },
   "outputs": [],
   "source": [
    "# Some calculated values\n",
    "df2=pd.get_dummies(df['action_type'])\n",
    "df = pd.concat([df, df2], axis=1)\n",
    "\n",
    "df3=pd.get_dummies(df['combined_shot_type'])\n",
    "df = pd.concat([df, df3], axis=1)\n",
    "\n",
    "df4=pd.get_dummies(df['shot_type'])\n",
    "df = pd.concat([df, df4], axis=1)\n",
    "\n",
    "df5=pd.get_dummies(df['season'])\n",
    "df = pd.concat([df, df5], axis=1)\n",
    "\n",
    "df6=pd.get_dummies(df['period'])\n",
    "df = pd.concat([df, df6], axis=1)\n",
    "\n",
    "df['home']=df.apply(lambda row: 1 if('@' in row.matchup) else 0, axis=1)\n",
    "\n",
    "df['total_seconds_remaining'] = df.apply(lambda row: row['minutes_remaining'] * 60 + row['seconds_remaining'], axis=1)\n",
    "\n",
    "df['last_moments'] = df.apply(lambda row: 2 if row['total_seconds_remaining'] <= 3 \\\n",
    "                              else row['total_seconds_remaining'], axis=1)\n",
    "df['last_moments'] = df.apply(lambda row: 0 if row['total_seconds_remaining'] > 6 and row['total_seconds_remaining']<=20\\\n",
    "                              else row['total_seconds_remaining'], axis=1)\n",
    "df['last_moments'] = df.apply(lambda row: 1 if row['total_seconds_remaining'] <= 6 and row['total_seconds_remaining']>3\\\n",
    "                              else row['total_seconds_remaining'], axis=1)\n",
    "df['last_moments'] = df.apply(lambda row: -1 if row['total_seconds_remaining'] > 2 \\\n",
    "                              else row['total_seconds_remaining'], axis=1)\n",
    "\n",
    "\n",
    "df['distance'] = df.apply(lambda row: row['shot_distance'] if row['shot_distance'] <45 else 45, axis=1)\n",
    "\n",
    "df['dist'] = np.sqrt(df['loc_x']**2 + df['loc_y']**2)\n",
    "\n",
    "df['dist_cut']=pd.cut(df['dist'], 10)\n",
    "\n",
    "dist_cuts=list(df.dist_cut.unique())\n",
    "df.dist_cut=df.apply(lambda row: dist_cuts.index(str(row['dist_cut'])), axis=1)\n",
    "#print(df.dist_cut)"
   ]
  },
  {
   "cell_type": "code",
   "execution_count": 5,
   "metadata": {
    "collapsed": false
   },
   "outputs": [
    {
     "data": {
      "text/plain": [
       "'\\nplt.scatter(dists, ratios)\\nplt.show()\\nactions_to_sort=sorted(actions_to_sort, key=lambda x: x[1], reverse=True)\\nfor x in actions_to_sort:\\n    print(x[0], x[1])\\n'"
      ]
     },
     "execution_count": 5,
     "metadata": {},
     "output_type": "execute_result"
    }
   ],
   "source": [
    "#split training rows from test rows\n",
    "train=df[~pd.isnull(df.shot_made_flag)]\n",
    "test=df[~df['shot_id'].isin(train['shot_id'])]\n",
    "\n",
    "\n",
    "#explore the data a bit, by grouping and calculating stuff\n",
    "by_action_type_sum=df.groupby('season').shot_made_flag.sum()\n",
    "by_action_type_count=df.groupby('season').shot_made_flag.count()\n",
    "sums=np.array(by_action_type_sum)\n",
    "counts=np.array(by_action_type_count)\n",
    "ratio=sums/counts\n",
    "actions_to_sort=[]\n",
    "dists=[]\n",
    "ratios=[]\n",
    "by_action_type_count=dict(by_action_type_count)\n",
    "by_action_type_sum = dict(by_action_type_sum)\n",
    "for x, i in by_action_type_sum.items():\n",
    "    dists.append(x)\n",
    "    ratios.append(i/by_action_type_count[x])\n",
    "\n",
    "plt.scatter(dists, ratios)\n",
    "plt.show()\n",
    "actions_to_sort=sorted(actions_to_sort, key=lambda x: x[1], reverse=True)\n",
    "for x in actions_to_sort:\n",
    "    print(x[0], x[1])\n"
   ]
  },
  {
   "cell_type": "code",
   "execution_count": 18,
   "metadata": {
    "collapsed": false
   },
   "outputs": [
    {
     "data": {
      "text/plain": [
       "\"adab.fit(train[features], target)\\npredictions=list(adab.predict_proba(test[features]))\\nshot_ids=list(test['shot_id'])\\nwith open('submission3.csv', 'w') as f:\\n    f.write('shot_id,shot_made_flag\\n')\\n    for i in range(len(shot_ids)):\\n        f.write(str(shot_ids[i])+','+str(predictions[i][1])+'\\n')\\n\""
      ]
     },
     "execution_count": 18,
     "metadata": {},
     "output_type": "execute_result"
    }
   ],
   "source": [
    "#set your target row\n",
    "target=train[['shot_made_flag']]\n",
    "#set feature columns\n",
    "#features=['action_type', 'combined_shot_type', 'type', 'distance', 'minutes_remaining', 'shot_type',\\\n",
    "#         'shot_zone_area2', 'shot_zone_basic2', 'shot_zone_range', 'last_moments', 'playoffs',\\\n",
    "#         'season', 'home', 'dist', 'game_event_id', 'period']\n",
    "\n",
    "\n",
    "features=['game_event_id', 'dist', 'home']\n",
    "#\n",
    "for x in df2.columns.values:\n",
    "    features.append(x)\n",
    "    \n",
    "#for x in df3.columns.values:\n",
    "#    features.append(x)\n",
    "    \n",
    "for x in df4.columns.values:\n",
    "    features.append(x)\n",
    "\n",
    "for x in df5.columns.values:\n",
    "    features.append(x)\n",
    "\n",
    "#for x in df6.columns.values:\n",
    "#    features.append(x)\n",
    "\n",
    "#initialize your predictors\n",
    "adab = ADAB(n_estimators=1000, learning_rate=0.4)\n",
    "\n",
    "'''adab.fit(train[features], target)\n",
    "predictions=list(adab.predict_proba(test[features]))\n",
    "shot_ids=list(test['shot_id'])\n",
    "with open('submission3.csv', 'w') as f:\n",
    "    f.write('shot_id,shot_made_flag\\n')\n",
    "    for i in range(len(shot_ids)):\n",
    "        f.write(str(shot_ids[i])+','+str(predictions[i][1])+'\\n')\n",
    "'''                  "
   ]
  },
  {
   "cell_type": "code",
   "execution_count": 19,
   "metadata": {
    "collapsed": false
   },
   "outputs": [],
   "source": [
    "#split the train into training and testing rows\n",
    "X_train, X_test, y_train, y_test = cv.train_test_split(train[features], target, test_size=0.33, random_state=25)"
   ]
  },
  {
   "cell_type": "code",
   "execution_count": 20,
   "metadata": {
    "collapsed": false
   },
   "outputs": [
    {
     "name": "stderr",
     "output_type": "stream",
     "text": [
      "/usr/local/lib/python3.4/dist-packages/sklearn/utils/validation.py:515: DataConversionWarning: A column-vector y was passed when a 1d array was expected. Please change the shape of y to (n_samples, ), for example using ravel().\n",
      "  y = column_or_1d(y, warn=True)\n"
     ]
    },
    {
     "data": {
      "text/plain": [
       "AdaBoostClassifier(algorithm='SAMME.R', base_estimator=None,\n",
       "          learning_rate=0.4, n_estimators=1000, random_state=None)"
      ]
     },
     "execution_count": 20,
     "metadata": {},
     "output_type": "execute_result"
    }
   ],
   "source": [
    "#train on X_train, y_train, created above\n",
    "adab.fit(X_train, y_train)"
   ]
  },
  {
   "cell_type": "code",
   "execution_count": 21,
   "metadata": {
    "collapsed": false
   },
   "outputs": [
    {
     "name": "stdout",
     "output_type": "stream",
     "text": [
      "game_event_id 0.299\n",
      "dist 0.464\n",
      "home 0.004\n",
      "Alley Oop Dunk Shot 0.004\n",
      "Alley Oop Layup shot 0.003\n",
      "Cutting Finger Roll Layup Shot 0.0\n",
      "Cutting Layup Shot 0.0\n",
      "Driving Bank shot 0.0\n",
      "Driving Dunk Shot 0.007\n",
      "Driving Finger Roll Layup Shot 0.005\n",
      "Driving Finger Roll Shot 0.005\n",
      "Driving Floating Bank Jump Shot 0.0\n",
      "Driving Floating Jump Shot 0.0\n",
      "Driving Hook Shot 0.003\n",
      "Driving Jump shot 0.002\n",
      "Driving Layup Shot 0.007\n",
      "Driving Reverse Layup Shot 0.003\n",
      "Driving Slam Dunk Shot 0.001\n",
      "Dunk Shot 0.005\n",
      "Fadeaway Bank shot 0.005\n",
      "Fadeaway Jump Shot 0.002\n",
      "Finger Roll Layup Shot 0.003\n",
      "Finger Roll Shot 0.001\n",
      "Floating Jump shot 0.005\n",
      "Follow Up Dunk Shot 0.001\n",
      "Hook Bank Shot 0.001\n",
      "Hook Shot 0.004\n",
      "Jump Bank Shot 0.0\n",
      "Jump Hook Shot 0.007\n",
      "Jump Shot 0.002\n",
      "Layup Shot 0.007\n",
      "Pullup Bank shot 0.0\n",
      "Pullup Jump shot 0.009\n",
      "Putback Dunk Shot 0.0\n",
      "Putback Layup Shot 0.008\n",
      "Putback Slam Dunk Shot 0.001\n",
      "Reverse Dunk Shot 0.003\n",
      "Reverse Layup Shot 0.0\n",
      "Reverse Slam Dunk Shot 0.004\n",
      "Running Bank shot 0.001\n",
      "Running Dunk Shot 0.001\n",
      "Running Finger Roll Layup Shot 0.005\n",
      "Running Finger Roll Shot 0.003\n",
      "Running Hook Shot 0.001\n",
      "Running Jump Shot 0.003\n",
      "Running Layup Shot 0.004\n",
      "Running Pull-Up Jump Shot 0.009\n",
      "Running Reverse Layup Shot 0.002\n",
      "Running Slam Dunk Shot 0.001\n",
      "Running Tip Shot 0.001\n",
      "Slam Dunk Shot 0.0\n",
      "Step Back Jump shot 0.001\n",
      "Tip Layup Shot 0.006\n",
      "Tip Shot 0.004\n",
      "Turnaround Bank shot 0.0\n",
      "Turnaround Fadeaway Bank Jump Shot 0.0\n",
      "Turnaround Fadeaway shot 0.006\n",
      "Turnaround Finger Roll Shot 0.006\n",
      "Turnaround Hook Shot 0.0\n",
      "Turnaround Jump Shot 0.001\n",
      "2PT Field Goal 0.001\n",
      "3PT Field Goal 0.003\n",
      "1996-97 0.0\n",
      "1997-98 0.005\n",
      "1998-99 0.004\n",
      "1999-00 0.0\n",
      "2000-01 0.004\n",
      "2001-02 0.003\n",
      "2002-03 0.004\n",
      "2003-04 0.003\n",
      "2004-05 0.003\n",
      "2005-06 0.0\n",
      "2006-07 0.001\n",
      "2007-08 0.001\n",
      "2008-09 0.004\n",
      "2009-10 0.004\n",
      "2010-11 0.002\n",
      "2011-12 0.002\n",
      "2012-13 0.0\n",
      "2013-14 0.002\n",
      "2014-15 0.003\n",
      "2015-16 0.005\n"
     ]
    },
    {
     "data": {
      "text/plain": [
       "0.68553236646621862"
      ]
     },
     "execution_count": 21,
     "metadata": {},
     "output_type": "execute_result"
    }
   ],
   "source": [
    "#checkout the score we get.\n",
    "for x in features:\n",
    "    print(x, adab.feature_importances_[features.index(x)])\n",
    "adab.score(X_test, y_test)"
   ]
  },
  {
   "cell_type": "code",
   "execution_count": 29,
   "metadata": {
    "collapsed": false
   },
   "outputs": [
    {
     "name": "stdout",
     "output_type": "stream",
     "text": [
      "20\n"
     ]
    }
   ],
   "source": [
    "print(len(df.season.unique()))"
   ]
  },
  {
   "cell_type": "code",
   "execution_count": null,
   "metadata": {
    "collapsed": true
   },
   "outputs": [],
   "source": []
  }
 ],
 "metadata": {
  "kernelspec": {
   "display_name": "Python 3",
   "language": "python",
   "name": "python3"
  },
  "language_info": {
   "codemirror_mode": {
    "name": "ipython",
    "version": 3
   },
   "file_extension": ".py",
   "mimetype": "text/x-python",
   "name": "python",
   "nbconvert_exporter": "python",
   "pygments_lexer": "ipython3",
   "version": "3.4.2"
  }
 },
 "nbformat": 4,
 "nbformat_minor": 0
}
